{
  "nbformat": 4,
  "nbformat_minor": 0,
  "metadata": {
    "colab": {
      "name": "Swakath_ Classification.ipynb",
      "provenance": [],
      "collapsed_sections": [
        "eRGPI27lR8Mf"
      ]
    },
    "kernelspec": {
      "name": "python3",
      "display_name": "Python 3"
    }
  },
  "cells": [
    {
      "cell_type": "markdown",
      "metadata": {
        "id": "5XwjZaUUse3h"
      },
      "source": [
        "Name: S U Swakath\n",
        "\n",
        "Roll No: 180020036"
      ]
    },
    {
      "cell_type": "markdown",
      "metadata": {
        "id": "VnlrpU7ghpw2"
      },
      "source": [
        " Classification:\n",
        "\n",
        " 1. Linear regression\n",
        " 2. Logistic regression\n",
        "\n",
        " 3. Support vector machine\n"
      ]
    },
    {
      "cell_type": "markdown",
      "metadata": {
        "id": "eRGPI27lR8Mf"
      },
      "source": [
        "# Linear regression\n",
        "\n",
        "1. Generate 1D data synthetically\n",
        "2. Take the earlier designed linear regression class\n",
        "3. Find the fitting line \n",
        "4. Taking 0.5 as threshold, see the classification    "
      ]
    },
    {
      "cell_type": "code",
      "metadata": {
        "id": "7c8soHbzhk2L",
        "colab": {
          "base_uri": "https://localhost:8080/"
        },
        "outputId": "182aae65-871e-4dcf-924c-ed2bc38b1a9b"
      },
      "source": [
        "import numpy as np\n",
        "import matplotlib.pyplot as plt\n",
        "\n",
        "# insert your code here\n",
        "\n",
        "#generating class 0\n",
        "numPoints = 100\n",
        "values = np.linspace(0,0.6,numPoints)\n",
        "dataClass = np.zeros(numPoints)\n",
        "data = np.vstack((values,dataClass))\n",
        "data = data.T\n",
        "\n",
        "#generating class 1\n",
        "numPoints = 100\n",
        "values = np.linspace(0.8,1.3,numPoints)\n",
        "dataClass = np.ones(numPoints)\n",
        "data1 = np.vstack((values,dataClass))\n",
        "data1 = data1.T\n",
        "\n",
        "#merging data\n",
        "data = np.vstack((data,data1))\n",
        "\n",
        "#plotting\n",
        "print(np.shape(data[:,0]))\n",
        "plt.plot(data[:,0],data[:,1],'.')"
      ],
      "execution_count": null,
      "outputs": [
        {
          "output_type": "stream",
          "text": [
            "(200,)\n"
          ],
          "name": "stdout"
        },
        {
          "output_type": "execute_result",
          "data": {
            "text/plain": [
              "[<matplotlib.lines.Line2D at 0x7f922d554f28>]"
            ]
          },
          "metadata": {
            "tags": []
          },
          "execution_count": 1
        },
        {
          "output_type": "display_data",
          "data": {
            "image/png": "[encoded data removed]",
            "text/plain": [
              "<Figure size 432x288 with 1 Axes>"
            ]
          },
          "metadata": {
            "tags": [],
            "needs_background": "light"
          }
        }
      ]
    },
    {
      "cell_type": "markdown",
      "metadata": {
        "id": "nxli0Pr6LLcC"
      },
      "source": [
        "Defining linear regression class"
      ]
    },
    {
      "cell_type": "code",
      "metadata": {
        "id": "r_Ht9UfyVeJA"
      },
      "source": [
        "# linear regression class\n",
        "class regression:\n",
        "# Constructor\n",
        "    def _init_(self, name='reg'):\n",
        "        self.name = name # Create an instance variable\n",
        "    # def f(x):\n",
        "    #   return 1/x\n",
        "    def grad_update(self,w_old,lr,y,x):\n",
        "        # write your code here\n",
        "        w = w_old + (2*lr)*(x@(y-(x.T@w_old)))/(y.shape[0])\n",
        "        return w\n",
        "    def error(self,w,y,x):\n",
        "        return (np.sum(np.square(y - (x.T@w))))/(y.shape[0])# write your code here\n",
        "    def mat_inv(self,y,x_aug):\n",
        "        return (np.linalg.pinv(x_aug@x_aug.T))@(x_aug@y)# write your code here\n",
        "    # by Gradien descent\n",
        "    def grad_des(self,y,x,lr,eps=0.000001):\n",
        "        # write your code here\n",
        "        w_old = np.random.rand(x.shape[0],1)\n",
        "        error1 = 100001.\n",
        "        error2 = 100000.\n",
        "        err = []\n",
        "        while (error1 - error2)>eps:\n",
        "            error1 = self.error(w_old,y,x)\n",
        "            w_old = self.grad_update(w_old,lr,y,x)\n",
        "            error2 = self.error(w_old,y,x)\n",
        "            err.append(error1)\n",
        "        w_pred = w_old\n",
        "        return w_pred,err"
      ],
      "execution_count": null,
      "outputs": []
    },
    {
      "cell_type": "markdown",
      "metadata": {
        "id": "hE8LPW0zyGZO"
      },
      "source": [
        "Data augmentation and optimal weight generation"
      ]
    },
    {
      "cell_type": "code",
      "metadata": {
        "id": "c_Aw3KP0DP7e",
        "colab": {
          "base_uri": "https://localhost:8080/"
        },
        "outputId": "9438bdba-e25d-458a-c66a-7d25914c6919"
      },
      "source": [
        "x = data[:,0]\n",
        "y = data[:,1]\n",
        "x=x[:,np.newaxis] \n",
        "x=x.T     # to make this in M x N format, where M is the dimension\n",
        "print(x.shape)\n",
        "x_aug=np.concatenate((np.ones((1,x.shape[1])), x),axis=0)\n",
        "print(x_aug.shape)\n",
        "\n",
        "y=y[:,np.newaxis]\n",
        "\n",
        "ln_reg=regression()\n",
        "w_opt_mi=ln_reg.mat_inv(y,x_aug)\n",
        "\n",
        "w_opt_gd = ln_reg.grad_des(y,x_aug,0.2,10**(-8))\n",
        "\n",
        "w_opt = w_opt_mi\n",
        "error = w_opt_gd[1]"
      ],
      "execution_count": null,
      "outputs": [
        {
          "output_type": "stream",
          "text": [
            "(1, 200)\n",
            "(2, 200)\n"
          ],
          "name": "stdout"
        }
      ]
    },
    {
      "cell_type": "markdown",
      "metadata": {
        "id": "KGYU-GL9Ns19"
      },
      "source": [
        "1. Optimal separating plane generation\n",
        "2. Classification (0.5 as threshold)\n"
      ]
    },
    {
      "cell_type": "code",
      "metadata": {
        "id": "jrCD1CW9HPQ6",
        "colab": {
          "base_uri": "https://localhost:8080/"
        },
        "outputId": "77e96909-05e9-4281-ea1e-5f4e89953ec1"
      },
      "source": [
        "print(w_opt)\n",
        "lr=0.01\n",
        "\n",
        "x_axis = range(len(error))\n",
        "plt.plot(x_axis,error)\n",
        "plt.title('Error in gradent descent')\n",
        "plt.xlabel('Iterations')\n",
        "plt.ylabel('Error')\n",
        "plt.show()\n",
        "\n",
        "x_plot = np.linspace(0,1.3,1000)\n",
        "x_plot=x_plot[:,np.newaxis] \n",
        "x_plot=x_plot.T     # to make this in M x N format, where M is the dimension\n",
        "x_augplot=np.concatenate((np.ones((1,x_plot.shape[1])), x_plot),axis=0)\n",
        "\n",
        "y_plot = w_opt.T@x_augplot\n",
        "print(y_plot.shape)\n",
        "print(x_aug.shape)\n",
        "print(x.shape)\n",
        "plt.plot(x_plot.T,y_plot.T,'g')\n",
        "# insert your code here\n",
        "\n",
        "th = 0.5\n",
        "x_th = (th - w_opt[0])/w_opt[1]\n",
        "print(x_th)\n",
        "\n",
        "\n",
        "class1 = []\n",
        "class2 = []\n",
        "\n",
        "for point in x.T:\n",
        "    if(point<x_th):\n",
        "        class1.append(point)\n",
        "    else:\n",
        "        class2.append(point)\n",
        "\n",
        "class1 = np.array(class1)\n",
        "class2 = np.array(class2)\n",
        "plt.plot(data[:,0],data[:,1],'b.')\n",
        "plt.plot(class1,np.zeros(len(class1)),'r.')\n",
        "plt.plot(class2,np.ones(len(class2)),'y.')\n",
        "plt.show()"
      ],
      "execution_count": null,
      "outputs": [
        {
          "output_type": "stream",
          "text": [
            "[[-0.25988351]\n",
            " [ 1.12575335]]\n"
          ],
          "name": "stdout"
        },
        {
          "output_type": "display_data",
          "data": {
            "image/png": "[encoded data removed]",
            "text/plain": [
              "<Figure size 432x288 with 1 Axes>"
            ]
          },
          "metadata": {
            "tags": [],
            "needs_background": "light"
          }
        },
        {
          "output_type": "stream",
          "text": [
            "(1, 1000)\n",
            "(2, 200)\n",
            "(1, 200)\n",
            "[0.675]\n"
          ],
          "name": "stdout"
        },
        {
          "output_type": "display_data",
          "data": {
            "image/png": "[encoded data removed]",
            "text/plain": [
              "<Figure size 432x288 with 1 Axes>"
            ]
          },
          "metadata": {
            "tags": [],
            "needs_background": "light"
          }
        }
      ]
    },
    {
      "cell_type": "markdown",
      "metadata": {
        "id": "ubVGPFPBr5vg"
      },
      "source": [
        "## Draw back of linear regression based classification\n",
        "1. Generate data (have outlairs noise)\n",
        "2. Find the fitting line.\n",
        "3. Using 0.5 as threshold, see the classification\n",
        "4. using matrix inversion (home work)\n"
      ]
    },
    {
      "cell_type": "code",
      "metadata": {
        "id": "Y2PNLjhNzPW7",
        "colab": {
          "base_uri": "https://localhost:8080/"
        },
        "outputId": "bdb8ef0f-212f-4b41-8379-fb9b608c157f"
      },
      "source": [
        "import numpy as np\n",
        "import matplotlib.pyplot as plt\n",
        "\n",
        "# insert your code here\n",
        "#generating class 0\n",
        "numPoints = 300\n",
        "values = np.linspace(0,0.6,numPoints)\n",
        "dataClass = np.zeros(numPoints)\n",
        "data = np.vstack((values,dataClass))\n",
        "data = data.T\n",
        "\n",
        "#generating class 1\n",
        "numPoints = 300\n",
        "values = np.linspace(0.8,1.3,numPoints)\n",
        "dataClass = np.ones(numPoints)\n",
        "data1 = np.vstack((values,dataClass))\n",
        "data1 = data1.T\n",
        "\n",
        "numPoints = 100\n",
        "values = np.linspace(3.2,3.6,numPoints)\n",
        "dataClass = np.ones(numPoints)\n",
        "data_temp = np.vstack((values,dataClass))\n",
        "data_temp = data_temp.T\n",
        "\n",
        "data1 = np.vstack((data1,data_temp))\n",
        "\n",
        "#merging data\n",
        "data = np.vstack((data,data1))\n",
        "\n",
        "#plotting\n",
        "print(np.shape(data[:,0]))\n",
        "plt.plot(data[:,0],data[:,1],'.')"
      ],
      "execution_count": null,
      "outputs": [
        {
          "output_type": "stream",
          "text": [
            "(700,)\n"
          ],
          "name": "stdout"
        },
        {
          "output_type": "execute_result",
          "data": {
            "text/plain": [
              "[<matplotlib.lines.Line2D at 0x7f922cf94b38>]"
            ]
          },
          "metadata": {
            "tags": []
          },
          "execution_count": 5
        },
        {
          "output_type": "display_data",
          "data": {
            "image/png": "[encoded data removed]",
            "text/plain": [
              "<Figure size 432x288 with 1 Axes>"
            ]
          },
          "metadata": {
            "tags": [],
            "needs_background": "light"
          }
        }
      ]
    },
    {
      "cell_type": "markdown",
      "metadata": {
        "id": "C7uM2mMgOL2r"
      },
      "source": [
        "Augment data"
      ]
    },
    {
      "cell_type": "code",
      "metadata": {
        "id": "r5wnJ-7Ga-z1",
        "colab": {
          "base_uri": "https://localhost:8080/"
        },
        "outputId": "fa80b239-5407-472a-e410-36dc7c3ff0e5"
      },
      "source": [
        "# Augment data\n",
        "x = data[:,0]\n",
        "y = data[:,1]\n",
        "x=x[:,np.newaxis] \n",
        "x=x.T     # to make this in M x N format, where M is the dimension\n",
        "print(x.shape)\n",
        "x_aug=np.concatenate((np.ones((1,x.shape[1])), x),axis=0)\n",
        "print(x_aug.shape)\n",
        "\n",
        "y=y[:,np.newaxis]\n",
        "\n",
        "ln_reg=regression()\n",
        "w_opt_mi=ln_reg.mat_inv(y,x_aug)\n",
        "\n",
        "w_opt_gd = ln_reg.grad_des(y,x_aug,0.2,10**(-8))\n",
        "\n",
        "w_opt = w_opt_mi\n",
        "error = w_opt_gd[1]"
      ],
      "execution_count": null,
      "outputs": [
        {
          "output_type": "stream",
          "text": [
            "(1, 700)\n",
            "(2, 700)\n"
          ],
          "name": "stdout"
        }
      ]
    },
    {
      "cell_type": "markdown",
      "metadata": {
        "id": "3rvRLZbROQNZ"
      },
      "source": [
        "1. find optimal weight\n",
        "2. perform classification (0.5 as threshold)"
      ]
    },
    {
      "cell_type": "code",
      "metadata": {
        "id": "T7GGW3bbdb8I",
        "colab": {
          "base_uri": "https://localhost:8080/"
        },
        "outputId": "8b50697a-cce0-4a9f-e4c8-a7566a6d29c1"
      },
      "source": [
        "print(\"Matrix inversion\",w_opt)\n",
        "print(\"Gradient decent\",w_opt_gd[0])\n",
        "lr=0.01\n",
        "\n",
        "x_axis = range(len(error))\n",
        "plt.plot(x_axis,error)\n",
        "plt.title('Error in gradent descent')\n",
        "plt.xlabel('Iterations')\n",
        "plt.ylabel('Error')\n",
        "plt.show()\n",
        "\n",
        "\n",
        "x_plot = np.linspace(0,3,1000)\n",
        "x_plot=x_plot[:,np.newaxis] \n",
        "x_plot=x_plot.T     # to make this in M x N format, where M is the dimension\n",
        "x_augplot=np.concatenate((np.ones((1,x_plot.shape[1])), x_plot),axis=0)\n",
        "\n",
        "y_plot = w_opt.T@x_augplot\n",
        "print(y_plot.shape)\n",
        "print(x_aug.shape)\n",
        "print(x.shape)\n",
        "plt.plot(x_plot.T,y_plot.T,'g')\n",
        "# insert your code here\n",
        "\n",
        "th = 0.5\n",
        "x_th = (th - w_opt[0])/w_opt[1]\n",
        "print(x_th)\n",
        "\n",
        "\n",
        "class1 = []\n",
        "class2 = []\n",
        "\n",
        "for point in x.T:\n",
        "    if(point<x_th):\n",
        "        class1.append(point)\n",
        "    else:\n",
        "        class2.append(point)\n",
        "\n",
        "class1 = np.array(class1)\n",
        "class2 = np.array(class2)\n",
        "\n",
        "plt.plot(data[:,0],data[:,1],'b.')\n",
        "plt.plot(class1,np.zeros(len(class1)),'r.')\n",
        "plt.plot(class2,np.ones(len(class2)),'y.')\n",
        "plt.figure(figsize=(10000,10000))\n",
        "plt.show()"
      ],
      "execution_count": null,
      "outputs": [
        {
          "output_type": "stream",
          "text": [
            "Matrix inversion [[0.24057767]\n",
            " [0.31086662]]\n",
            "Gradient decent [[0.24037882]\n",
            " [0.31098344]]\n"
          ],
          "name": "stdout"
        },
        {
          "output_type": "display_data",
          "data": {
            "image/png": "[encoded data removed]",
            "text/plain": [
              "<Figure size 432x288 with 1 Axes>"
            ]
          },
          "metadata": {
            "tags": [],
            "needs_background": "light"
          }
        },
        {
          "output_type": "stream",
          "text": [
            "(1, 1000)\n",
            "(2, 700)\n",
            "(1, 700)\n",
            "[0.83451331]\n"
          ],
          "name": "stdout"
        },
        {
          "output_type": "display_data",
          "data": {
            "image/png": "[encoded data removed]",
            "text/plain": [
              "<Figure size 432x288 with 1 Axes>"
            ]
          },
          "metadata": {
            "tags": [],
            "needs_background": "light"
          }
        },
        {
          "output_type": "display_data",
          "data": {
            "text/plain": [
              "<Figure size 720000x720000 with 0 Axes>"
            ]
          },
          "metadata": {
            "tags": []
          }
        }
      ]
    },
    {
      "cell_type": "markdown",
      "metadata": {
        "id": "praLrLBjM2EW"
      },
      "source": [
        "# logistic regression\n",
        "1. Error surface (logistic loss vs. MSE)\n",
        "2. Solve the outlair issue\n",
        "3. Circularly separable data classification\n",
        "4. Multiclass classification"
      ]
    },
    {
      "cell_type": "markdown",
      "metadata": {
        "id": "mdHTm3EhDYdr"
      },
      "source": [
        "## Error surface (logistic loss vs. MSE)"
      ]
    },
    {
      "cell_type": "code",
      "metadata": {
        "id": "cU3DV5bkDX8c",
        "colab": {
          "base_uri": "https://localhost:8080/",
          "height": 318
        },
        "outputId": "ac3c2237-4c6f-49ad-a51a-3c441d9c3984"
      },
      "source": [
        "import numpy as np\n",
        "import matplotlib.pyplot as plt\n",
        "\n",
        "x=np.linspace(-5,5,25)\n",
        "y=np.zeros(x.shape)\n",
        "y[np.where(x>0.7314)]=1\n",
        "\n",
        "plt.plot(x,y,'.')\n",
        "print(np.shape(x))\n",
        "print(np.shape(y))\n",
        "\n",
        "m = len(x)\n",
        "ones = np.ones((m,2))\n",
        "ones[:,1:] = np.array([x]).T\n",
        "x_aug = ones\n",
        "print(np.shape(x_aug))\n"
      ],
      "execution_count": null,
      "outputs": [
        {
          "output_type": "stream",
          "text": [
            "(25,)\n",
            "(25,)\n",
            "(25, 2)\n"
          ],
          "name": "stdout"
        },
        {
          "output_type": "display_data",
          "data": {
            "image/png": "[encoded data removed]",
            "text/plain": [
              "<Figure size 432x288 with 1 Axes>"
            ]
          },
          "metadata": {
            "tags": [],
            "needs_background": "light"
          }
        }
      ]
    },
    {
      "cell_type": "markdown",
      "metadata": {
        "id": "tIdvMRuDLOGM"
      },
      "source": [
        "1. MSE=$\\frac{1}{2N}\\sum_{i=1}^{N}(y^{p}_{i}-y_{i})^2$, where $y^{p}=\\frac{1}{1+e^{-w^{T}x}}$\n",
        "2. Logistic loss=$-\\frac{1}{N}\\sum_{i=1}^{N}y_{i}log(y^{p}_{i})+(1-y_{i})log(1-y_{i}^{p})$"
      ]
    },
    {
      "cell_type": "code",
      "metadata": {
        "id": "JDzS5KMHGIlK"
      },
      "source": [
        "import math\n",
        "# search space (only w1 is searched, where as w0 is fixed)\n",
        "w1_in=10/(x[1]-x[0])\n",
        "w0=-w1_in*0.7314\n",
        "w1=np.linspace(-w1_in,4*w1_in,100)\n",
        "\n",
        "\n",
        "def hypo_func(x,w):\n",
        "    power = x@w\n",
        "    np.shape(power)\n",
        "    return 1/(1 + np.exp(-1.0*power))\n",
        "\n",
        "def mse(y,x,w):\n",
        "    n,m = np.shape(x)\n",
        "    diff = hypo_func(x,w)-y\n",
        "    sq = np.square(diff)\n",
        "    sum = np.sum(sq)\n",
        "    return sum/(2*n)\n",
        "\n",
        "def logisticLoss(y,x,w):\n",
        "    n,m = np.shape(x)\n",
        "    yp = hypo_func(x,w)\n",
        "    h1 = np.where(yp==0,1e-100,yp)\n",
        "    h0 = np.where(yp==1,0.999999999999,yp)\n",
        "    sum = (-y*np.log(h1)-(1-y)*np.log(1-h0)).mean()\n",
        "    return sum\n",
        "\n",
        "X = x_aug\n",
        "Y = np.array([y])\n",
        "Y = Y.T\n",
        "\n",
        "cost_fn_mse=[]\n",
        "cost_fn_logis=[]\n",
        "for i in range(w1.shape[0]):\n",
        "    # MSE\n",
        "    w = np.array([[w0],[w1[i]]])\n",
        "    cost_mse = mse(Y,X,w)\n",
        "    cost_fn_mse.append(cost_mse)\n",
        "\n",
        "    # Cost function using log\n",
        "    cost_logis = logisticLoss(Y,X,w)\n",
        "    cost_fn_logis.append(cost_logis)"
      ],
      "execution_count": null,
      "outputs": []
    },
    {
      "cell_type": "code",
      "metadata": {
        "id": "1QdaVsP1Js_x",
        "colab": {
          "base_uri": "https://localhost:8080/",
          "height": 265
        },
        "outputId": "532e7056-d17b-493a-dfcc-c22afad72681"
      },
      "source": [
        "# ploting of error surface\n",
        "plt.figure()\n",
        "plt.plot(w1,np.log(cost_fn_mse))\n",
        "plt.plot(w1,np.log(cost_fn_logis))\n",
        "plt.show()\n"
      ],
      "execution_count": null,
      "outputs": [
        {
          "output_type": "display_data",
          "data": {
            "image/png": "[encoded data removed]",
            "text/plain": [
              "<Figure size 432x288 with 1 Axes>"
            ]
          },
          "metadata": {
            "tags": [],
            "needs_background": "light"
          }
        }
      ]
    },
    {
      "cell_type": "markdown",
      "metadata": {
        "id": "lzRAXAYsiuhp"
      },
      "source": [
        "## Solve the outlier issue\n"
      ]
    },
    {
      "cell_type": "code",
      "metadata": {
        "id": "_CGKgXFTh5B-",
        "colab": {
          "base_uri": "https://localhost:8080/",
          "height": 283
        },
        "outputId": "3a635464-f222-400d-b1a9-c48b5cf677ff"
      },
      "source": [
        "# logistic regression\n",
        "import numpy as np\n",
        "import matplotlib.pyplot as plt\n",
        "\n",
        "# insert your code here\n",
        "#generating class 0\n",
        "numPoints = 300\n",
        "values = np.linspace(0,0.6,numPoints)\n",
        "dataClass = np.zeros(numPoints)\n",
        "data = np.vstack((values,dataClass))\n",
        "data = data.T\n",
        "\n",
        "#generating class 1\n",
        "numPoints = 300\n",
        "values = np.linspace(0.8,1.3,numPoints)\n",
        "dataClass = np.ones(numPoints)\n",
        "data1 = np.vstack((values,dataClass))\n",
        "data1 = data1.T\n",
        "\n",
        "numPoints = 100\n",
        "values = np.linspace(3.2,3.6,numPoints)\n",
        "dataClass = np.ones(numPoints)\n",
        "data_temp = np.vstack((values,dataClass))\n",
        "data_temp = data_temp.T\n",
        "\n",
        "data1 = np.vstack((data1,data_temp))\n",
        "\n",
        "#merging data\n",
        "data = np.vstack((data,data1))\n",
        "\n",
        "x= data[:,0]\n",
        "y= data[:,1]\n",
        "\n",
        "plt.figure()\n",
        "plt.plot(x,y,'.')\n",
        "plt.show()\n",
        "\n",
        "print(np.shape(x))"
      ],
      "execution_count": null,
      "outputs": [
        {
          "output_type": "display_data",
          "data": {
            "image/png": "[encoded data removed]",
            "text/plain": [
              "<Figure size 432x288 with 1 Axes>"
            ]
          },
          "metadata": {
            "tags": [],
            "needs_background": "light"
          }
        },
        {
          "output_type": "stream",
          "text": [
            "(700,)\n"
          ],
          "name": "stdout"
        }
      ]
    },
    {
      "cell_type": "code",
      "metadata": {
        "id": "PE5x893HD4Km"
      },
      "source": [
        "class logis_regression:\n",
        "  # Constructor\n",
        "  def __init__(self, name='reg'):\n",
        "    self.name = name  # Create an instance variable\n",
        "  \n",
        "  def logis(self,x,w_old):\n",
        "    power = x@w_old\n",
        "    return 1/(1 + np.exp(-1.0*power))\n",
        "    \n",
        "  def grad_update(self,w_old,lr,y,x):\n",
        "    # write your code here\n",
        "    x = x.T\n",
        "    w = w_old + (lr)*(x@(y-(x.T@w_old)))/(y.shape[0])\n",
        "    return w\n",
        "\n",
        "  def error(self,w,y,x):\n",
        "    n,m = np.shape(x)\n",
        "    yp = hypo_func(x,w)\n",
        "    h1 = np.where(yp==0,1e-100,yp)\n",
        "    h0 = np.where(yp==1,0.999999999999,yp)\n",
        "    sum = (-y*np.log(h1)-(1-y)*np.log(1-h0)).mean()\n",
        "    return sum\n",
        "    \n",
        "    # by Gradien descent\n",
        "  def Regression_grad_des(self,x,y,w_in,lr,eps = 1e-20):\n",
        "    w_old = w_in\n",
        "    print(\"Inside function\",w_old)\n",
        "    error1 = self.error(w_old,y,x)\n",
        "    err=[]\n",
        "    err.append(error1)\n",
        "    i = 1\n",
        "    while (1):\n",
        "      w_old = self.grad_update(w_old,lr,y,x)\n",
        "      error1 = self.error(w_old,y,x)\n",
        "      err.append(error1)\n",
        "      if ((err[i-1]-err[i])<eps):\n",
        "        break\n",
        "      i+=1\n",
        "      if (i%10000 == 0):\n",
        "        print(\"In progress...\",i)\n",
        "    w_pred = w_old\n",
        "    print(\"Inside fun\",w_pred.shape)\n",
        "    return w_pred,err"
      ],
      "execution_count": null,
      "outputs": []
    },
    {
      "cell_type": "code",
      "metadata": {
        "id": "8pRanc1ejLWO",
        "colab": {
          "base_uri": "https://localhost:8080/"
        },
        "outputId": "f28c07c8-07de-4ae7-cff1-f389420885cc"
      },
      "source": [
        "# augmentation and data formating\n",
        "x = data[:,0]\n",
        "y = data[:,1]\n",
        "y=y[:,np.newaxis]\n",
        "print(x.shape)\n",
        "x_aug=np.vstack((np.ones(x.shape[0]),x))\n",
        "x_aug = x_aug.T\n",
        "print(x_aug.shape)\n",
        "print(y.shape)"
      ],
      "execution_count": null,
      "outputs": [
        {
          "output_type": "stream",
          "text": [
            "(700,)\n",
            "(700, 2)\n",
            "(700, 1)\n"
          ],
          "name": "stdout"
        }
      ]
    },
    {
      "cell_type": "code",
      "metadata": {
        "id": "lhsGmCN5n3wE",
        "colab": {
          "base_uri": "https://localhost:8080/"
        },
        "outputId": "f5632506-ad8a-4c7f-f44e-8c9871710bc9"
      },
      "source": [
        "log_reg=logis_regression()\n",
        "eps = 10**(-20)\n",
        "w_in = np.array([[-2],[10]])\n",
        "w_pred1,err_list=log_reg.Regression_grad_des(x_aug,y,w_in,0.0001,eps)\n",
        "print(w_pred1)\n",
        "print(len(err_list))\n",
        "#plt.plot(err)"
      ],
      "execution_count": null,
      "outputs": [
        {
          "output_type": "stream",
          "text": [
            "Inside function [[-2]\n",
            " [10]]\n",
            "Inside fun (2, 1)\n",
            "[[-3.5517757 ]\n",
            " [ 5.72933409]]\n",
            "3432\n"
          ],
          "name": "stdout"
        }
      ]
    },
    {
      "cell_type": "code",
      "metadata": {
        "id": "rNtku-hRBQVa",
        "colab": {
          "base_uri": "https://localhost:8080/",
          "height": 267
        },
        "outputId": "1e7ff49e-78a0-4616-b461-b5de52fccdd6"
      },
      "source": [
        "plt.plot(err_list)\n",
        "plt.show()"
      ],
      "execution_count": null,
      "outputs": [
        {
          "output_type": "display_data",
          "data": {
            "image/png": "[encoded data removed]",
            "text/plain": [
              "<Figure size 432x288 with 1 Axes>"
            ]
          },
          "metadata": {
            "tags": [],
            "needs_background": "light"
          }
        }
      ]
    },
    {
      "cell_type": "code",
      "metadata": {
        "id": "8xWcdoE5whVm",
        "colab": {
          "base_uri": "https://localhost:8080/",
          "height": 300
        },
        "outputId": "defa8a66-c32e-485d-a583-d3bcff64a5e8"
      },
      "source": [
        "# output computa\n",
        "x_graph = np.linspace(0,3.7,1000)\n",
        "x_graph_all = np.vstack((np.ones(len(x_graph)),x_graph))\n",
        "print(x_graph.shape)\n",
        "y_graph =1/(1+ np.exp(-1*(x_graph_all.T@w_pred1)))\n",
        "x_g1 = np.linspace(0,1,1000)\n",
        "x_g1_all = np.vstack((np.ones(len(x_g1)),x_g1))\n",
        "y_g1 = x_g1_all.T@w_pred1\n",
        "plt.plot(x_graph,y_graph)\n",
        "plt.plot(x_g1,y_g1)\n",
        "# # insert your code here\n",
        "y_pred = log_reg.logis(x_aug,w_pred1)\n",
        "\n",
        "class1 = np.where(y_pred[:,0]>=0.5)\n",
        "class2 = np.where(y_pred[:,0]<0.5)\n",
        "\n",
        "class1 = x_aug[class1,1]\n",
        "class2 = x_aug[class2,1]\n",
        "\n",
        "plt.plot(data[:,0],data[:,1],'b.')\n",
        "plt.plot(class1,np.ones(len(class1)),'r.')\n",
        "plt.plot(class2,np.zeros(len(class2)),'y.')\n",
        "plt.figure(figsize=(10000,10000))\n",
        "plt.show()"
      ],
      "execution_count": null,
      "outputs": [
        {
          "output_type": "stream",
          "text": [
            "(1000,)\n"
          ],
          "name": "stdout"
        },
        {
          "output_type": "display_data",
          "data": {
            "image/png": "[encoded data removed]",
            "text/plain": [
              "<Figure size 432x288 with 1 Axes>"
            ]
          },
          "metadata": {
            "tags": [],
            "needs_background": "light"
          }
        },
        {
          "output_type": "display_data",
          "data": {
            "text/plain": [
              "<Figure size 720000x720000 with 0 Axes>"
            ]
          },
          "metadata": {
            "tags": []
          }
        }
      ]
    },
    {
      "cell_type": "markdown",
      "metadata": {
        "id": "9poZ8N56Z94R"
      },
      "source": [
        "## Classification of circularly separated data using logistic regression\n",
        "\n"
      ]
    },
    {
      "cell_type": "code",
      "metadata": {
        "id": "BB9LN7-QZ9Lb",
        "colab": {
          "base_uri": "https://localhost:8080/",
          "height": 265
        },
        "outputId": "25e3d699-ae32-4668-90c1-cacd09fb30ff"
      },
      "source": [
        "# Generating circularly separated data\n",
        "import numpy as np\n",
        "import matplotlib.pyplot as plt\n",
        "\n",
        "\n",
        "x1=np.linspace(-3,3,20)\n",
        "y1=np.linspace(-3,3,20)\n",
        "\n",
        "x11,y11=np.meshgrid(x1,y1)\n",
        "plt.plot(x11,y11,'.')\n",
        "plt.show()"
      ],
      "execution_count": null,
      "outputs": [
        {
          "output_type": "display_data",
          "data": {
            "image/png": "[encoded data removed]",
            "text/plain": [
              "<Figure size 432x288 with 1 Axes>"
            ]
          },
          "metadata": {
            "tags": [],
            "needs_background": "light"
          }
        }
      ]
    },
    {
      "cell_type": "markdown",
      "metadata": {
        "id": "UH3gwRKNbf34"
      },
      "source": [
        "1. Circularly separated data generation"
      ]
    },
    {
      "cell_type": "code",
      "metadata": {
        "id": "EP4mon7Rc80v",
        "colab": {
          "base_uri": "https://localhost:8080/",
          "height": 336
        },
        "outputId": "a22be57b-7b26-4346-d6c4-bb33db84e845"
      },
      "source": [
        "x2=x11.flatten()\n",
        "y2=y11.flatten()\n",
        "\n",
        "circData=np.concatenate((x2[:,np.newaxis],y2[:,np.newaxis]),axis=1) # to make matrix format\n",
        "x = circData\n",
        "print(\"initial x\",x.shape)\n",
        "\n",
        "aind=np.where((x[:,0]**(2)+x[:,1]**(2))<=0.9)\n",
        "\n",
        "bind=np.where((x[:,0]**(2)+x[:,1]**(2))>=2.2)\n",
        "\n",
        "inner=x[aind[0],:]\n",
        "outer=x[bind[0],:]\n",
        "print(\"Inner circle\",inner.shape)\n",
        "print(\"outer Circle\",outer.shape)\n",
        "x=np.concatenate((inner,outer))\n",
        "circData = x\n",
        "print(\"Final X\",circData.shape)\n",
        "\n",
        "plt.plot(circData[:,0],circData[:,1],'.')\n",
        "plt.show()"
      ],
      "execution_count": null,
      "outputs": [
        {
          "output_type": "stream",
          "text": [
            "initial x (400, 2)\n",
            "Inner circle (32, 2)\n",
            "outer Circle (332, 2)\n",
            "Final X (364, 2)\n"
          ],
          "name": "stdout"
        },
        {
          "output_type": "display_data",
          "data": {
            "image/png": "[encoded data removed]",
            "text/plain": [
              "<Figure size 432x288 with 1 Axes>"
            ]
          },
          "metadata": {
            "tags": [],
            "needs_background": "light"
          }
        }
      ]
    },
    {
      "cell_type": "markdown",
      "metadata": {
        "id": "ZBZR6c0JcnDm"
      },
      "source": [
        "As in case of circularly separated data, the boundary is nonlinear, so squred feature is taken."
      ]
    },
    {
      "cell_type": "code",
      "metadata": {
        "id": "OvI2_KIfhKsS",
        "colab": {
          "base_uri": "https://localhost:8080/"
        },
        "outputId": "7c8bbea4-998e-42fe-cfab-b1cb3913b73c"
      },
      "source": [
        "# perform logistic regression\n",
        "\n",
        "y1=np.zeros((inner.shape[0]))\n",
        "y2=np.ones((outer.shape[0]))\n",
        "y_circ=np.concatenate((y1,y2))\n",
        "y_circ = y_circ[:,np.newaxis]\n",
        "print(y.shape)\n",
        "all_x = circData[:,0]\n",
        "all_y = circData[:,1]\n",
        "sqX = np.square(all_x)\n",
        "sqY = np.square(all_y)\n",
        "XY = np.multiply(all_x,all_y)\n",
        "ones = np.ones(all_x.shape[0])\n",
        "print(sqX.shape)\n",
        "print(sqY.shape)\n",
        "print(XY.shape)\n",
        "print(ones.shape)\n",
        "\n",
        "x_aug_circ = np.vstack((ones,sqX,sqY,XY)) \n",
        "x_aug_circ = x_aug_circ.T\n",
        "print(x_aug_circ.shape)"
      ],
      "execution_count": null,
      "outputs": [
        {
          "output_type": "stream",
          "text": [
            "(700, 1)\n",
            "(364,)\n",
            "(364,)\n",
            "(364,)\n",
            "(364,)\n",
            "(364, 4)\n"
          ],
          "name": "stdout"
        }
      ]
    },
    {
      "cell_type": "code",
      "metadata": {
        "id": "kE5AEnc56j0N",
        "colab": {
          "base_uri": "https://localhost:8080/",
          "height": 354
        },
        "outputId": "a746c13b-0e36-4402-f3a0-015d97ba6da0"
      },
      "source": [
        "log_reg_circ = logis_regression() \n",
        "w_in = np.array([[-1],[3],[3],[0]])\n",
        "eps = 1e-20\n",
        "lr = 0.00001\n",
        "w_pred_circ,err_circ=log_reg_circ.Regression_grad_des(x_aug_circ,y_circ,w_in,lr,eps)\n",
        "plt.plot(err_circ)\n",
        "plt.show()"
      ],
      "execution_count": null,
      "outputs": [
        {
          "output_type": "stream",
          "text": [
            "Inside function [[-1]\n",
            " [ 3]\n",
            " [ 3]\n",
            " [ 0]]\n",
            "Inside fun (4, 1)\n"
          ],
          "name": "stdout"
        },
        {
          "output_type": "display_data",
          "data": {
            "image/png": "[encoded data removed]",
            "text/plain": [
              "<Figure size 432x288 with 1 Axes>"
            ]
          },
          "metadata": {
            "tags": [],
            "needs_background": "light"
          }
        }
      ]
    },
    {
      "cell_type": "markdown",
      "metadata": {
        "id": "aPZH3-2FdCMB"
      },
      "source": [
        "Plot classification using 0.5 as threshold"
      ]
    },
    {
      "cell_type": "code",
      "metadata": {
        "id": "3b65To6rtIGN",
        "colab": {
          "base_uri": "https://localhost:8080/",
          "height": 354
        },
        "outputId": "afd0b15d-1b15-471f-ecb5-cff224c05662"
      },
      "source": [
        "y_pred_circ=log_reg.logis(x_aug_circ,w_pred_circ)\n",
        "print(y_pred_circ.shape)\n",
        "# insert your code here\n",
        "ind1 = np.where(y_pred_circ[:,0]>=0.5)\n",
        "ind2 = np.where(y_pred_circ[:,0]<0.5)\n",
        "ind2= np.array(ind2)\n",
        "ind1= np.array(ind1)\n",
        "print(\"ins\",ind2.shape)\n",
        "x00=circData[ind1[0,:],:]\n",
        "x11=circData[ind2[0,:],:]\n",
        "print(circData.shape)\n",
        "print(x00.shape)\n",
        "print(x11.shape)\n",
        "plt.figure()\n",
        "plt.plot(x00[:,0],x00[:,1],'x',color='y')\n",
        "plt.plot(x11[:,0],x11[:,1],'o',color='r')\n",
        "plt.show()"
      ],
      "execution_count": null,
      "outputs": [
        {
          "output_type": "stream",
          "text": [
            "(364, 1)\n",
            "ins (1, 32)\n",
            "(364, 2)\n",
            "(332, 2)\n",
            "(32, 2)\n"
          ],
          "name": "stdout"
        },
        {
          "output_type": "display_data",
          "data": {
            "image/png": "[encoded data removed]",
            "text/plain": [
              "<Figure size 432x288 with 1 Axes>"
            ]
          },
          "metadata": {
            "tags": [],
            "needs_background": "light"
          }
        }
      ]
    },
    {
      "cell_type": "markdown",
      "metadata": {
        "id": "Lb-RLgsnC23C"
      },
      "source": [
        "## Multiclass logistic regression\n",
        "\n",
        "1. Generate 1D data with 3 classes\n"
      ]
    },
    {
      "cell_type": "markdown",
      "metadata": {
        "id": "GgonBFE8I2IL"
      },
      "source": [
        "### One vs rest classification\n",
        "\n",
        "1. lets take polynomial of order 2 (by seeing the data distribution)"
      ]
    },
    {
      "cell_type": "code",
      "metadata": {
        "id": "AcyM3i2N673z",
        "colab": {
          "base_uri": "https://localhost:8080/",
          "height": 283
        },
        "outputId": "cec962f6-4f9e-4aca-efe3-1d1e9fa78ce6"
      },
      "source": [
        "import numpy as np\n",
        "import matplotlib.pyplot as plt\n",
        "\n",
        "x1=np.linspace(0,0.6,100)\n",
        "x2=np.linspace(1.1,2.7,100)\n",
        "x3=np.linspace(3.5,3.8,100)\n",
        "\n",
        "x_multi=np.concatenate((x1,x2,x3))\n",
        "print(x.shape)\n",
        "\n",
        "y1=np.zeros(x1.shape)\n",
        "y2=np.ones(x2.shape)\n",
        "y3=np.tile([2],x3.shape)\n",
        "\n",
        "y_multi=np.concatenate((y1,y2,y3))\n",
        "\n",
        "plt.figure()\n",
        "plt.plot(x_multi,y_multi,'.')\n",
        "plt.show()"
      ],
      "execution_count": null,
      "outputs": [
        {
          "output_type": "stream",
          "text": [
            "(364, 2)\n"
          ],
          "name": "stdout"
        },
        {
          "output_type": "display_data",
          "data": {
            "image/png": "[encoded data removed]",
            "text/plain": [
              "<Figure size 432x288 with 1 Axes>"
            ]
          },
          "metadata": {
            "tags": [],
            "needs_background": "light"
          }
        }
      ]
    },
    {
      "cell_type": "code",
      "metadata": {
        "id": "wBzA2n2eI1Oe"
      },
      "source": [
        "def data_transform(X,degree): \n",
        "  X_new=[]      \n",
        "  for i in range(degree +1):\n",
        "    X_new.append(X**i)              \n",
        "  X_new = np.concatenate(X_new)  \n",
        "  return X_new"
      ],
      "execution_count": null,
      "outputs": []
    },
    {
      "cell_type": "code",
      "metadata": {
        "id": "EIO8_Rnrngkt",
        "colab": {
          "base_uri": "https://localhost:8080/"
        },
        "outputId": "84f7f5e3-df13-49a5-f9b2-57e3ff5c269a"
      },
      "source": [
        "x_aug_multi=data_transform(x_multi[np.newaxis,:],2)\n",
        "print(x_aug_multi.shape)"
      ],
      "execution_count": null,
      "outputs": [
        {
          "output_type": "stream",
          "text": [
            "(3, 300)\n"
          ],
          "name": "stdout"
        }
      ]
    },
    {
      "cell_type": "code",
      "metadata": {
        "id": "3MPgINWrup_m"
      },
      "source": [
        "# plot for classification\n",
        "def plot_op(x,y_pred):\n",
        "  # insert your code here\n",
        "  ind0 = np.where(y_pred[:,0]<0.5)\n",
        "  ind1 = np.where(y_pred[:,0]>=0.5)\n",
        "  ind0 = np.array(ind0)\n",
        "  ind1 = np.array(ind1)\n",
        "  x0=x[ind0[0,:],:]\n",
        "  x1=x[ind1[0,:],:]\n",
        "  plt.plot(x0[:,0],np.zeros((x0).shape),'o',color='y')\n",
        "  plt.plot(x1[:,0],np.ones((x1).shape),'x',color='r')"
      ],
      "execution_count": null,
      "outputs": []
    },
    {
      "cell_type": "code",
      "metadata": {
        "id": "efpGxlxvn8Bg",
        "colab": {
          "base_uri": "https://localhost:8080/",
          "height": 389
        },
        "outputId": "19e2a3de-6d3f-4ecd-a5ed-46857d3edd66"
      },
      "source": [
        "#Working on class1\n",
        "# insert your code here\n",
        "log_reg_multi = logis_regression() \n",
        "\n",
        "w_in_1 = np.array([[-3],[4],[1]])\n",
        "eps = 1e-20\n",
        "lr = 0.00001\n",
        "\n",
        "y_class1 = np.concatenate((np.zeros(x1.shape),np.ones(x2.shape),np.ones(x3.shape)))\n",
        "y_class1 = y_class1[:,np.newaxis]\n",
        "w_pred_class1,err_class1=log_reg_multi.Regression_grad_des(x_aug_multi.T,y_class1,w_in_1,lr,eps)\n",
        "\n",
        "plt.plot(err_class1)\n",
        "plt.show\n",
        "\n",
        "print(w_pred_class1)"
      ],
      "execution_count": null,
      "outputs": [
        {
          "output_type": "stream",
          "text": [
            "Inside function [[-3]\n",
            " [ 4]\n",
            " [ 1]]\n",
            "Inside fun (3, 1)\n",
            "[[-3.05402455]\n",
            " [ 3.80912007]\n",
            " [ 0.34159628]]\n"
          ],
          "name": "stdout"
        },
        {
          "output_type": "display_data",
          "data": {
            "image/png": "[encoded data removed]",
            "text/plain": [
              "<Figure size 432x288 with 1 Axes>"
            ]
          },
          "metadata": {
            "tags": [],
            "needs_background": "light"
          }
        }
      ]
    },
    {
      "cell_type": "code",
      "metadata": {
        "id": "OSUtI8WpCQj-",
        "colab": {
          "base_uri": "https://localhost:8080/",
          "height": 265
        },
        "outputId": "5199b37e-eb46-4c90-8137-faa9b547c4d8"
      },
      "source": [
        "# ploting for class1\n",
        "plt.figure()\n",
        "plt.plot(x_multi,y_class1[:,0],'.')\n",
        "\n",
        "y_pred_class1=log_reg_multi.logis(x_aug_multi.T,w_pred_class1)\n",
        "plt.plot(x_multi,y_pred_class1)\n",
        "plot_op(x_multi[:,np.newaxis],y_pred_class1)\n",
        "plt.show()"
      ],
      "execution_count": null,
      "outputs": [
        {
          "output_type": "display_data",
          "data": {
            "image/png": "[encoded data removed]",
            "text/plain": [
              "<Figure size 432x288 with 1 Axes>"
            ]
          },
          "metadata": {
            "tags": [],
            "needs_background": "light"
          }
        }
      ]
    },
    {
      "cell_type": "code",
      "metadata": {
        "id": "m9bYJ1oZtSMq",
        "colab": {
          "base_uri": "https://localhost:8080/",
          "height": 393
        },
        "outputId": "92ef9548-40db-4a46-a056-56e1f84f5ea0"
      },
      "source": [
        "#Working class 2\n",
        "w_in_2 = np.array([[3],[-5],[2]])\n",
        "eps = 1e-20\n",
        "lr = 0.00001\n",
        "\n",
        "y_class2 = np.concatenate((np.ones(x1.shape),np.zeros(x2.shape),np.ones(x3.shape)))\n",
        "y_class2 = y_class2[:,np.newaxis]\n",
        "w_pred_class2,err_class2=log_reg_multi.Regression_grad_des(x_aug_multi.T,y_class2,w_in_2,lr,eps)\n",
        "\n",
        "plt.plot(err_class2)\n",
        "plt.show\n",
        "\n",
        "print(w_pred_class2)\n"
      ],
      "execution_count": null,
      "outputs": [
        {
          "output_type": "stream",
          "text": [
            "Inside function [[ 3]\n",
            " [-5]\n",
            " [ 2]]\n",
            "Inside fun (3, 1)\n",
            "[[ 2.95426001]\n",
            " [-5.15775724]\n",
            " [ 1.40684166]]\n"
          ],
          "name": "stdout"
        },
        {
          "output_type": "display_data",
          "data": {
            "image/png": "[encoded data removed]",
            "text/plain": [
              "<Figure size 432x288 with 1 Axes>"
            ]
          },
          "metadata": {
            "tags": [],
            "needs_background": "light"
          }
        }
      ]
    },
    {
      "cell_type": "code",
      "metadata": {
        "id": "XXerPaDhF-cu",
        "colab": {
          "base_uri": "https://localhost:8080/",
          "height": 265
        },
        "outputId": "7de6bbb8-db08-44a0-d53e-20c73f6bdadb"
      },
      "source": [
        "# ploting class 2\n",
        "# x_graph = np.linspace(0,3.7,1000)\n",
        "# x_graph_all = data_transform(x_graph[np.newaxis,:],2)\n",
        "# print(x_graph_all.shape)\n",
        "# print(w_pred_class2.shape)\n",
        "# y_g = x_graph_all.T@w_pred_class2\n",
        "plt.figure()\n",
        "plt.plot(x_multi,y_class2[:,0],'.')\n",
        "\n",
        "y_pred_class2=log_reg_multi.logis(x_aug_multi.T,w_pred_class2)\n",
        "plt.plot(x_multi,y_pred_class2)\n",
        "plot_op(x_multi[:,np.newaxis],y_pred_class2)\n",
        "#plt.plot(x_graph,y_g)\n",
        "plt.show()"
      ],
      "execution_count": null,
      "outputs": [
        {
          "output_type": "display_data",
          "data": {
            "image/png": "[encoded data removed]",
            "text/plain": [
              "<Figure size 432x288 with 1 Axes>"
            ]
          },
          "metadata": {
            "tags": [],
            "needs_background": "light"
          }
        }
      ]
    },
    {
      "cell_type": "code",
      "metadata": {
        "id": "G-PQFKvktnFc",
        "colab": {
          "base_uri": "https://localhost:8080/",
          "height": 389
        },
        "outputId": "6a8c2bca-615f-4017-9511-ee54a8dcfa14"
      },
      "source": [
        "#Working for class3\n",
        "w_in_3 = np.array([[4],[3],[-1]])\n",
        "eps = 1e-20\n",
        "lr = 0.00001\n",
        "\n",
        "y_class3 = np.concatenate((np.ones(x1.shape),np.ones(x2.shape),np.zeros(x3.shape)))\n",
        "y_class3 = y_class3[:,np.newaxis]\n",
        "w_pred_class3,err_class3=log_reg_multi.Regression_grad_des(x_aug_multi.T,y_class3,w_in_3,lr,eps)\n",
        "\n",
        "plt.plot(err_class3)\n",
        "plt.show\n",
        "\n",
        "print(w_pred_class3)"
      ],
      "execution_count": null,
      "outputs": [
        {
          "output_type": "stream",
          "text": [
            "Inside function [[ 4]\n",
            " [ 3]\n",
            " [-1]]\n",
            "Inside fun (3, 1)\n",
            "[[ 3.81996569]\n",
            " [ 2.84274768]\n",
            " [-1.14930366]]\n"
          ],
          "name": "stdout"
        },
        {
          "output_type": "display_data",
          "data": {
            "image/png": "[encoded data removed]",
            "text/plain": [
              "<Figure size 432x288 with 1 Axes>"
            ]
          },
          "metadata": {
            "tags": [],
            "needs_background": "light"
          }
        }
      ]
    },
    {
      "cell_type": "code",
      "metadata": {
        "id": "Mm0BHSU8IaP7",
        "colab": {
          "base_uri": "https://localhost:8080/",
          "height": 265
        },
        "outputId": "a5565eae-195c-4ff2-b221-b8590c3d7b3e"
      },
      "source": [
        "#Plotting Class3\n",
        "plt.figure()\n",
        "plt.plot(x_multi,y_class3[:,0],'.')\n",
        "\n",
        "y_pred_class3=log_reg_multi.logis(x_aug_multi.T,w_pred_class3)\n",
        "plt.plot(x_multi,y_pred_class3)\n",
        "plot_op(x_multi[:,np.newaxis],y_pred_class3)\n",
        "plt.show()"
      ],
      "execution_count": null,
      "outputs": [
        {
          "output_type": "display_data",
          "data": {
            "image/png": "[encoded data removed]",
            "text/plain": [
              "<Figure size 432x288 with 1 Axes>"
            ]
          },
          "metadata": {
            "tags": [],
            "needs_background": "light"
          }
        }
      ]
    },
    {
      "cell_type": "code",
      "metadata": {
        "id": "_x6NWsEkxbjH",
        "colab": {
          "base_uri": "https://localhost:8080/",
          "height": 265
        },
        "outputId": "ac60156f-5f67-41fa-df95-d142c318fbc3"
      },
      "source": [
        "# final classification\n",
        "# insert your code here  # as '0' is taken as referance\n",
        "# insert your code here\n",
        "y_pred1 = x_aug_multi.T@w_pred_class1\n",
        "y_pred2 = x_aug_multi.T@w_pred_class2\n",
        "y_pred3 = x_aug_multi.T@w_pred_class3\n",
        "y_final = []\n",
        "for i in range(y_pred1.shape[0]):\n",
        "  if (y_pred1[i,0]<y_pred2[i,0] and y_pred1[i,0]<y_pred3[i,0]):\n",
        "    y_final.append(0)\n",
        "  elif (y_pred2[i,0]<y_pred1[i,0] and y_pred2[i,0]<y_pred3[i,0]):\n",
        "    y_final.append(1)\n",
        "  elif (y_pred3[i,0]<y_pred1[i,0] and y_pred3[i,0]<y_pred2[i,0]):\n",
        "    y_final.append(2)\n",
        "  else:\n",
        "    y_final.append(4)\n",
        "\n",
        "y_final = np.array(y_final)\n",
        "plt.figure()\n",
        "plt.scatter(x_multi,y_final,c=y_final)\n",
        "plt.show()"
      ],
      "execution_count": null,
      "outputs": [
        {
          "output_type": "display_data",
          "data": {
            "image/png": "[encoded data removed]",
            "text/plain": [
              "<Figure size 432x288 with 1 Axes>"
            ]
          },
          "metadata": {
            "tags": [],
            "needs_background": "light"
          }
        }
      ]
    },
    {
      "cell_type": "markdown",
      "metadata": {
        "id": "Hozg7Cy_71ue"
      },
      "source": [
        "# Support vector machine\n",
        "\n",
        "1. Try to maximize the margin of separation between data.\n",
        "2. Instead of learning wx+b=0  separating hyperplane directly (like logistic regression), SVM try to learn wx+b=0, such that, the margin between two hyperplanes wx+b=1 and wx+b=-1 (also known as support vectors) is maximum. \n",
        "3. Margin between wx+b=1 and wx+b=-1 hyperplane is $\\frac{2}{||w||}$\n",
        "4. we have a constraint optimization problem of maximizing $\\frac{2}{||w||}$, with constraints wx+b>=1 (for +ve class) and wx+b<=-1 (for -ve class).\n",
        "5. As $y_{i}=1$ for +ve class and $y_{i}=-1$ for -ve class, the constraint can be re-written as:\n",
        "$$y(wx+b)>=1$$\n",
        "\n",
        "6. Final optimization is (i.e to find w and b):\n",
        "$$\\min_{||w||}\\frac{1}{2}||w||,$$\n",
        "$$y(wx+b) \\geq 1,~\\forall ~data $$\n",
        "\n",
        "\n",
        "\n",
        "\n",
        "\n",
        "\n",
        "\n",
        "\n",
        "\n",
        "\n",
        "\n",
        "\n",
        "Acknowledgement:\n",
        "\n",
        "https://pythonprogramming.net/predictions-svm-machine-learning-tutorial/\n",
        "\n",
        "https://medium.com/deep-math-machine-learning-ai/chapter-3-1-svm-from-scratch-in-python-86f93f853dc"
      ]
    },
    {
      "cell_type": "code",
      "metadata": {
        "id": "VZCCspO28ACg"
      },
      "source": [
        "import numpy as np\n",
        "import matplotlib.pyplot as plt\n",
        "import math"
      ],
      "execution_count": null,
      "outputs": []
    },
    {
      "cell_type": "markdown",
      "metadata": {
        "id": "dOe8btABKSBO"
      },
      "source": [
        "## Data generation:\n",
        "1. Generate 2D gaussian data with fixed mean and variance for 2 class.(var=Identity, class1: mean[-4,-4], class2: mean[1,1], No. of data 25 from each class)\n",
        "2. create the label matrix\n",
        "3. Plot the generated data"
      ]
    },
    {
      "cell_type": "code",
      "metadata": {
        "id": "ZMQCjODoKQBe",
        "colab": {
          "base_uri": "https://localhost:8080/",
          "height": 319
        },
        "outputId": "fc2cc8e6-a6d8-42ca-dc70-e690e94abdd1"
      },
      "source": [
        "No_sample=50\n",
        "mean1=np.array([-3,-3])\n",
        "var1=np.array([[1,0],[0,1]])\n",
        "mean2=np.array([1,1])\n",
        "var2=var1\n",
        "data1=np.random.multivariate_normal(mean1,var1,int(No_sample/2))\n",
        "data2=np.random.multivariate_normal(mean2,var2,int(No_sample/2))\n",
        "X=np.concatenate((data1,data2))\n",
        "print(X.shape)\n",
        "y=np.concatenate((-1*np.ones(data1.shape[0]),np.ones(data2.shape[0])))\n",
        "print(y.shape)\n",
        "\n",
        "plt.figure()\n",
        "plt.scatter(X[:,0],X[:,1],marker='o',c=y)"
      ],
      "execution_count": null,
      "outputs": [
        {
          "output_type": "stream",
          "text": [
            "(50, 2)\n",
            "(50,)\n"
          ],
          "name": "stdout"
        },
        {
          "output_type": "execute_result",
          "data": {
            "text/plain": [
              "<matplotlib.collections.PathCollection at 0x7f3d7169c3c8>"
            ]
          },
          "metadata": {
            "tags": []
          },
          "execution_count": 155
        },
        {
          "output_type": "display_data",
          "data": {
            "image/png": "[encoded data removed]",
            "text/plain": [
              "<Figure size 432x288 with 1 Axes>"
            ]
          },
          "metadata": {
            "tags": [],
            "needs_background": "light"
          }
        }
      ]
    },
    {
      "cell_type": "markdown",
      "metadata": {
        "id": "1ecaYv7ZL0D_"
      },
      "source": [
        "Create a data dictionary, which contains both label and data points."
      ]
    },
    {
      "cell_type": "code",
      "metadata": {
        "id": "tv2YixzZcphV"
      },
      "source": [
        "postiveX=[]\n",
        "negativeX=[]\n",
        "for i,v in enumerate(y):\n",
        "    if v==-1:\n",
        "        negativeX.append(X[i])\n",
        "    else:\n",
        "        postiveX.append(X[i])\n",
        "\n",
        "#our data dictionary\n",
        "data_dict = {-1:np.array(negativeX), 1:np.array(postiveX)} "
      ],
      "execution_count": null,
      "outputs": []
    },
    {
      "cell_type": "markdown",
      "metadata": {
        "id": "p8Zk66RiWuS5"
      },
      "source": [
        "## SVM training\n",
        "1. create a search space for w (i.e w1=w2),[0, 0.5*max((abs(feat)))] and  for b, [-max((abs(feat))),max((abs(feat)))], with appropriate step.\n",
        "2. we will start with a higher step and find optimal w and b, then we will reduce the step and again re-evaluate the optimal one.\n",
        "\n",
        "3. In each step, we will take transform of w, [1,1], [-1,1],[1,-1] and [-1,-1] to search arround the w. \n",
        "\n",
        "4. In every pass (for a fixed step size) we will store all the w, b and its corresponding ||w||, which make the data correctly classified as per the condition $y(wx+b) \\geq 1$. \n",
        "\n",
        "5. Obtain the optimal hyperplane having minimum ||w||.\n",
        "\n",
        "6. Start with the optimal w and repeat the same (step 3,4 and 5) for a reduced step size.\n"
      ]
    },
    {
      "cell_type": "code",
      "metadata": {
        "id": "AafDodH6c6BX"
      },
      "source": [
        "## my SVM\n",
        "\n",
        "class SVM:\n",
        "\n",
        "    def __init__(self, learning_rate=0.001, lambda_param=0.01, n_iters=1000):\n",
        "        self.lr = learning_rate\n",
        "        self.lambda_param = lambda_param\n",
        "        self.n_iters = n_iters\n",
        "        self.w = None\n",
        "        self.b = None\n",
        "\n",
        "\n",
        "    def fit(self, X, y_):\n",
        "        n_samples, n_features = X.shape\n",
        "        \n",
        "        self.w = np.zeros(n_features)\n",
        "        self.b = 0\n",
        "        print('inside function')\n",
        "        for _ in range(self.n_iters):\n",
        "            for idx, x_i in enumerate(X):\n",
        "                condition = y_[idx] * (np.dot(x_i, self.w) - self.b) >= 1\n",
        "                if condition:\n",
        "                    self.w -= self.lr * (2 * self.lambda_param * self.w)\n",
        "                else:\n",
        "                    self.w -= self.lr * (2 * self.lambda_param * self.w - np.dot(x_i, y_[idx]))\n",
        "                    self.b -= self.lr * y_[idx]\n",
        "        return self.w,-1*self.b\n",
        "\n",
        "    def predict(self, X):\n",
        "        approx = np.dot(X, self.w) - self.b\n",
        "        return np.sign(approx)"
      ],
      "execution_count": null,
      "outputs": []
    },
    {
      "cell_type": "markdown",
      "metadata": {
        "id": "JvFsoKXxe6IX"
      },
      "source": [
        "**Training**"
      ]
    },
    {
      "cell_type": "code",
      "metadata": {
        "id": "CShR8NSac8BO",
        "colab": {
          "base_uri": "https://localhost:8080/"
        },
        "outputId": "dce7c2c9-d812-4f60-ba4a-3dacb2ecb2ca"
      },
      "source": [
        "# my trainging\n",
        "lr = 1e-4\n",
        "lambda_param = 1e-4\n",
        "n_iter = 20000\n",
        "svm = SVM(lr,lambda_param,n_iter)\n",
        "w,b = svm.fit(X,y)\n",
        "print(w)\n",
        "print(b)"
      ],
      "execution_count": null,
      "outputs": [
        {
          "output_type": "stream",
          "text": [
            "inside function\n",
            "[1.15485955 1.08452534]\n",
            "1.6806999999998313\n"
          ],
          "name": "stdout"
        }
      ]
    },
    {
      "cell_type": "markdown",
      "metadata": {
        "id": "d8jDgEH5fAKt"
      },
      "source": [
        "## Visualization of the SVM separating hyperplanes (after training)"
      ]
    },
    {
      "cell_type": "code",
      "metadata": {
        "id": "YYcTUEFZdKLd"
      },
      "source": [
        "def visualize(data_dict,w,b):\n",
        "\n",
        "        plt.scatter(X[:,0],X[:,1],marker='o',c=y)\n",
        "\n",
        "        def hyperplane_value(x,w,b,v):\n",
        "            return (-w[0]*x-b+v) / w[1]\n",
        "\n",
        "        hyp_x_min = np.min([np.min(data_dict[1]),np.min(data_dict[-1])])\n",
        "        hyp_x_max = np.max([np.max(data_dict[1]),np.max(data_dict[-1])])\n",
        "\n",
        "        # (w.x+b) = 1\n",
        "        # positive support vector hyperplane\n",
        "        psv1 = hyperplane_value(hyp_x_min, w, b, 1)\n",
        "        psv2 = hyperplane_value(hyp_x_max, w, b, 1)\n",
        "        plt.plot([hyp_x_min,hyp_x_max],[psv1,psv2], 'k')\n",
        "\n",
        "        # (w.x+b) = -1\n",
        "        # negative support vector hyperplane\n",
        "        nsv1 = hyperplane_value(hyp_x_min, w, b, -1)\n",
        "        nsv2 = hyperplane_value(hyp_x_max, w, b, -1)\n",
        "        plt.plot([hyp_x_min,hyp_x_max],[nsv1,nsv2], 'k')\n",
        "\n",
        "        # (w.x+b) = 0\n",
        "        # positive support vector hyperplane\n",
        "        db1 = hyperplane_value(hyp_x_min, w, b, 0)\n",
        "        db2 = hyperplane_value(hyp_x_max, w, b, 0)\n",
        "        plt.plot([hyp_x_min,hyp_x_max],[db1,db2], 'y--')        \n",
        "        \n",
        "        \n",
        "        "
      ],
      "execution_count": null,
      "outputs": []
    },
    {
      "cell_type": "code",
      "metadata": {
        "id": "GamcosyndOjq",
        "colab": {
          "base_uri": "https://localhost:8080/",
          "height": 265
        },
        "outputId": "6e24b977-9cf5-4eac-a2e4-133190f27748"
      },
      "source": [
        "fig = plt.figure()\n",
        "\n",
        "visualize(data_dict,w,b)\n",
        "plt.show()"
      ],
      "execution_count": null,
      "outputs": [
        {
          "output_type": "display_data",
          "data": {
            "image/png": "[encoded data removed]",
            "text/plain": [
              "<Figure size 432x288 with 1 Axes>"
            ]
          },
          "metadata": {
            "tags": [],
            "needs_background": "light"
          }
        }
      ]
    },
    {
      "cell_type": "markdown",
      "metadata": {
        "id": "f-xxiXTufMsR"
      },
      "source": [
        "## Testing\n",
        "\n",
        "1. Generate test data as like training\n",
        "2. See the classification\n",
        "\n",
        "3. if $wx_{test}+b > 0$, $y_{test}=1$ else $y_{test}=-1$\n"
      ]
    },
    {
      "cell_type": "code",
      "metadata": {
        "id": "_qDbv7CDfL47",
        "colab": {
          "base_uri": "https://localhost:8080/",
          "height": 301
        },
        "outputId": "753d5b18-31e9-4422-c266-9125b1e7c76a"
      },
      "source": [
        "No_test_sample=40\n",
        "data1=np.random.multivariate_normal(mean1,var1,int(No_test_sample/2))\n",
        "data2=np.random.multivariate_normal(mean2,var2,int(No_test_sample/2))\n",
        "test_data=np.concatenate((data1,data2))\n",
        "y_gr=np.concatenate((-1*np.ones(data1.shape[0]),np.ones(data2.shape[0])))\n",
        "\n",
        "\n",
        "# evaluate with the trained model\n",
        "\n",
        "y_pred=svm.predict(test_data)\n",
        "\n",
        "sum =0\n",
        "count=0\n",
        "for yi,yp in zip(y_gr,y_pred):\n",
        "    count +=1\n",
        "    if(yi==yp):\n",
        "        sum += 1\n",
        "\n",
        "accuracy=(sum/count)*100\n",
        "print('test accuracy=',accuracy)\n",
        "\n",
        "#  Visualization\n",
        "plt.figure()\n",
        "visualize(data_dict,w,b)\n",
        "plt.scatter(test_data[:,0],test_data[:,1],marker='x',c=y_gr)"
      ],
      "execution_count": null,
      "outputs": [
        {
          "output_type": "stream",
          "text": [
            "test accuracy= 100.0\n"
          ],
          "name": "stdout"
        },
        {
          "output_type": "execute_result",
          "data": {
            "text/plain": [
              "<matplotlib.collections.PathCollection at 0x7f3d7147e780>"
            ]
          },
          "metadata": {
            "tags": []
          },
          "execution_count": 168
        },
        {
          "output_type": "display_data",
          "data": {
            "image/png": "[encoded data removed]",
            "text/plain": [
              "<Figure size 432x288 with 1 Axes>"
            ]
          },
          "metadata": {
            "tags": [],
            "needs_background": "light"
          }
        }
      ]
    }
  ]
}